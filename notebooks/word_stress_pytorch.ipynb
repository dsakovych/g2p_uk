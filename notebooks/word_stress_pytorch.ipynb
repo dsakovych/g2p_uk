{
 "cells": [
  {
   "cell_type": "code",
   "execution_count": 1,
   "metadata": {},
   "outputs": [],
   "source": [
    "import os\n",
    "import time\n",
    "import glob\n",
    "import numba\n",
    "import random\n",
    "import itertools\n",
    "import torch\n",
    "import torch.nn as nn\n",
    "import matplotlib.pyplot as plt\n",
    "\n",
    "import numpy as np\n",
    "import pandas as pd\n",
    "\n",
    "from tqdm import tqdm\n",
    "from sklearn.model_selection import train_test_split\n",
    "from torch.nn.utils.rnn import pad_sequence\n",
    "from torch.utils.data import Dataset, DataLoader"
   ]
  },
  {
   "cell_type": "code",
   "execution_count": 2,
   "metadata": {},
   "outputs": [
    {
     "data": {
      "text/plain": [
       "'1.7.0+cu110'"
      ]
     },
     "execution_count": 2,
     "metadata": {},
     "output_type": "execute_result"
    }
   ],
   "source": [
    "torch.__version__"
   ]
  },
  {
   "cell_type": "code",
   "execution_count": 3,
   "metadata": {},
   "outputs": [],
   "source": [
    "DATA_PATH = '../data/'\n",
    "RANDOM_SEED = 42"
   ]
  },
  {
   "cell_type": "code",
   "execution_count": 4,
   "metadata": {},
   "outputs": [],
   "source": [
    "def seed_everything(seed=0):\n",
    "    random.seed(seed)\n",
    "    os.environ['PYTHONHASHSEED'] = str(seed)\n",
    "    np.random.seed(seed)\n",
    "    torch.manual_seed(seed)\n",
    "    torch.cuda.manual_seed(seed)\n",
    "    torch.backends.cudnn.deterministic = True"
   ]
  },
  {
   "cell_type": "code",
   "execution_count": 5,
   "metadata": {},
   "outputs": [],
   "source": [
    "seed_everything(RANDOM_SEED)"
   ]
  },
  {
   "cell_type": "code",
   "execution_count": 6,
   "metadata": {},
   "outputs": [],
   "source": [
    "# @numba.jit\n",
    "def stress_pos(x):\n",
    "    try:\n",
    "        res = np.zeros(len(x)-1)\n",
    "        stress_idx = x.find('+')\n",
    "        res[stress_idx] = 1\n",
    "        return res\n",
    "    except IndexError:\n",
    "        return np.NaN"
   ]
  },
  {
   "cell_type": "code",
   "execution_count": 7,
   "metadata": {},
   "outputs": [
    {
     "name": "stderr",
     "output_type": "stream",
     "text": [
      "100%|██████████| 34/34 [00:04<00:00,  6.85it/s]\n"
     ]
    }
   ],
   "source": [
    "data = []\n",
    "\n",
    "for file in tqdm(glob.glob(DATA_PATH + \"dictionary/\" + \"*.txt\")):\n",
    "    with open(file, encoding='cp1251') as fil:\n",
    "        lines = fil.readlines()\n",
    "        for line in lines:\n",
    "            try:\n",
    "                word1, word2 = line.strip().split(\" \")\n",
    "                word1, word2 = word1.strip().replace('i', 'і'), word2.strip().replace('i', 'і')\n",
    "                data.append((word1, word2))\n",
    "            except ValueError:\n",
    "                continue"
   ]
  },
  {
   "cell_type": "code",
   "execution_count": 8,
   "metadata": {},
   "outputs": [],
   "source": [
    "data = pd.DataFrame(data)\n",
    "data.columns = ['word', 'word_with_stress']"
   ]
  },
  {
   "cell_type": "code",
   "execution_count": 9,
   "metadata": {},
   "outputs": [
    {
     "name": "stderr",
     "output_type": "stream",
     "text": [
      "100%|██████████| 53/53 [01:04<00:00,  1.22s/it]\n"
     ]
    }
   ],
   "source": [
    "exclude_list = [\n",
    "    '\\t', '$', '%', '-', '\\\\', '`', 'a', 'b', 'c', 'd', 'e', 'f', 'g', \n",
    "    'h', 'i', 'j', 'k', 'l', 'm', 'n', 'o', 'p', 'q', 'r', 's', 't', 'u', \n",
    "    'v', 'w', 'x', 'y', 'z', '~', '\\xa0', '\\xad', '·', 'ђ', 'ј', 'љ', 'њ', 'ћ', \n",
    "    'ў', 'џ', '–', '‘', '’', '“', '”', '•', '№',\n",
    "    'ъ', 'ы', 'э'\n",
    "]\n",
    "\n",
    "for item in tqdm(exclude_list):\n",
    "    data = data.loc[~data.word.str.contains(item, regex=False)]"
   ]
  },
  {
   "cell_type": "code",
   "execution_count": 10,
   "metadata": {},
   "outputs": [
    {
     "name": "stdout",
     "output_type": "stream",
     "text": [
      "CPU times: user 12 s, sys: 1.29 s, total: 13.3 s\n",
      "Wall time: 13.2 s\n"
     ]
    }
   ],
   "source": [
    "%%time\n",
    "\n",
    "data['word_list'] = data.word.map(list)"
   ]
  },
  {
   "cell_type": "code",
   "execution_count": 11,
   "metadata": {},
   "outputs": [
    {
     "name": "stdout",
     "output_type": "stream",
     "text": [
      "CPU times: user 3.98 s, sys: 115 ms, total: 4.1 s\n",
      "Wall time: 4.1 s\n"
     ]
    }
   ],
   "source": [
    "%%time\n",
    "\n",
    "data['word_stress_pos'] = data.word_with_stress.map(stress_pos)"
   ]
  },
  {
   "cell_type": "code",
   "execution_count": 12,
   "metadata": {},
   "outputs": [],
   "source": [
    "data = data.loc[data.word_stress_pos.notna()]"
   ]
  },
  {
   "cell_type": "code",
   "execution_count": 13,
   "metadata": {},
   "outputs": [
    {
     "data": {
      "text/html": [
       "<div>\n",
       "<style scoped>\n",
       "    .dataframe tbody tr th:only-of-type {\n",
       "        vertical-align: middle;\n",
       "    }\n",
       "\n",
       "    .dataframe tbody tr th {\n",
       "        vertical-align: top;\n",
       "    }\n",
       "\n",
       "    .dataframe thead th {\n",
       "        text-align: right;\n",
       "    }\n",
       "</style>\n",
       "<table border=\"1\" class=\"dataframe\">\n",
       "  <thead>\n",
       "    <tr style=\"text-align: right;\">\n",
       "      <th></th>\n",
       "      <th>word</th>\n",
       "      <th>word_with_stress</th>\n",
       "      <th>word_list</th>\n",
       "      <th>word_stress_pos</th>\n",
       "    </tr>\n",
       "  </thead>\n",
       "  <tbody>\n",
       "    <tr>\n",
       "      <th>1024316</th>\n",
       "      <td>пивничого</td>\n",
       "      <td>пивн+ичого</td>\n",
       "      <td>[п, и, в, н, и, ч, о, г, о]</td>\n",
       "      <td>[0.0, 0.0, 0.0, 0.0, 1.0, 0.0, 0.0, 0.0, 0.0]</td>\n",
       "    </tr>\n",
       "    <tr>\n",
       "      <th>1011665</th>\n",
       "      <td>перехитрило</td>\n",
       "      <td>перехитр+ило</td>\n",
       "      <td>[п, е, р, е, х, и, т, р, и, л, о]</td>\n",
       "      <td>[0.0, 0.0, 0.0, 0.0, 0.0, 0.0, 0.0, 0.0, 1.0, ...</td>\n",
       "    </tr>\n",
       "    <tr>\n",
       "      <th>224015</th>\n",
       "      <td>відгризатиметься</td>\n",
       "      <td>відгриз+атиметься</td>\n",
       "      <td>[в, і, д, г, р, и, з, а, т, и, м, е, т, ь, с, я]</td>\n",
       "      <td>[0.0, 0.0, 0.0, 0.0, 0.0, 0.0, 0.0, 1.0, 0.0, ...</td>\n",
       "    </tr>\n",
       "    <tr>\n",
       "      <th>2127636</th>\n",
       "      <td>розбірною</td>\n",
       "      <td>розб+ірною</td>\n",
       "      <td>[р, о, з, б, і, р, н, о, ю]</td>\n",
       "      <td>[0.0, 0.0, 0.0, 0.0, 1.0, 0.0, 0.0, 0.0, 0.0]</td>\n",
       "    </tr>\n",
       "    <tr>\n",
       "      <th>2792530</th>\n",
       "      <td>ексудат</td>\n",
       "      <td>ексуд+ат</td>\n",
       "      <td>[е, к, с, у, д, а, т]</td>\n",
       "      <td>[0.0, 0.0, 0.0, 0.0, 0.0, 1.0, 0.0]</td>\n",
       "    </tr>\n",
       "  </tbody>\n",
       "</table>\n",
       "</div>"
      ],
      "text/plain": [
       "                     word   word_with_stress  \\\n",
       "1024316         пивничого         пивн+ичого   \n",
       "1011665       перехитрило       перехитр+ило   \n",
       "224015   відгризатиметься  відгриз+атиметься   \n",
       "2127636         розбірною         розб+ірною   \n",
       "2792530           ексудат           ексуд+ат   \n",
       "\n",
       "                                                word_list  \\\n",
       "1024316                       [п, и, в, н, и, ч, о, г, о]   \n",
       "1011665                 [п, е, р, е, х, и, т, р, и, л, о]   \n",
       "224015   [в, і, д, г, р, и, з, а, т, и, м, е, т, ь, с, я]   \n",
       "2127636                       [р, о, з, б, і, р, н, о, ю]   \n",
       "2792530                             [е, к, с, у, д, а, т]   \n",
       "\n",
       "                                           word_stress_pos  \n",
       "1024316      [0.0, 0.0, 0.0, 0.0, 1.0, 0.0, 0.0, 0.0, 0.0]  \n",
       "1011665  [0.0, 0.0, 0.0, 0.0, 0.0, 0.0, 0.0, 0.0, 1.0, ...  \n",
       "224015   [0.0, 0.0, 0.0, 0.0, 0.0, 0.0, 0.0, 1.0, 0.0, ...  \n",
       "2127636      [0.0, 0.0, 0.0, 0.0, 1.0, 0.0, 0.0, 0.0, 0.0]  \n",
       "2792530                [0.0, 0.0, 0.0, 0.0, 0.0, 1.0, 0.0]  "
      ]
     },
     "execution_count": 13,
     "metadata": {},
     "output_type": "execute_result"
    }
   ],
   "source": [
    "data.sample(5)"
   ]
  },
  {
   "cell_type": "code",
   "execution_count": 14,
   "metadata": {},
   "outputs": [
    {
     "data": {
      "text/plain": [
       "28"
      ]
     },
     "execution_count": 14,
     "metadata": {},
     "output_type": "execute_result"
    }
   ],
   "source": [
    "max_sequence_len = np.max(data.word.str.len())\n",
    "max_sequence_len"
   ]
  },
  {
   "cell_type": "code",
   "execution_count": 15,
   "metadata": {},
   "outputs": [],
   "source": [
    "def flatten(array):\n",
    "    for item in array:\n",
    "        if isinstance(item, list):\n",
    "            yield from flatten(item)\n",
    "        else:\n",
    "            yield item\n",
    "\n",
    "\n",
    "class SequenceTokenizer:\n",
    "    \n",
    "    def __init__(self):\n",
    "        self.word2index = {}\n",
    "        self.index2word = {}\n",
    "        self.oov_token ='<UNK>'\n",
    "        self.oov_token_index = 0\n",
    "        \n",
    "    def fit(self, sequence):\n",
    "        self.index2word = dict(enumerate([self.oov_token] + sorted(set(flatten(sequence))), 1))\n",
    "        self.word2index = {v:k for k,v in self.index2word.items()}\n",
    "        self.oov_token_index = self.word2index.get(self.oov_token)\n",
    "        return self\n",
    "    \n",
    "    def transform(self, X):\n",
    "        res = []\n",
    "        for line in X:\n",
    "            res.append([self.word2index.get(item, self.oov_token_index) for item in line])\n",
    "        return res"
   ]
  },
  {
   "cell_type": "code",
   "execution_count": 16,
   "metadata": {},
   "outputs": [],
   "source": [
    "tokenizer = SequenceTokenizer()\n",
    "tokenizer.fit(data.word_list);"
   ]
  },
  {
   "cell_type": "code",
   "execution_count": 17,
   "metadata": {},
   "outputs": [
    {
     "data": {
      "text/plain": [
       "{'<UNK>': 1,\n",
       " 'а': 2,\n",
       " 'б': 3,\n",
       " 'в': 4,\n",
       " 'г': 5,\n",
       " 'д': 6,\n",
       " 'е': 7,\n",
       " 'ж': 8,\n",
       " 'з': 9,\n",
       " 'и': 10,\n",
       " 'й': 11,\n",
       " 'к': 12,\n",
       " 'л': 13,\n",
       " 'м': 14,\n",
       " 'н': 15,\n",
       " 'о': 16,\n",
       " 'п': 17,\n",
       " 'р': 18,\n",
       " 'с': 19,\n",
       " 'т': 20,\n",
       " 'у': 21,\n",
       " 'ф': 22,\n",
       " 'х': 23,\n",
       " 'ц': 24,\n",
       " 'ч': 25,\n",
       " 'ш': 26,\n",
       " 'щ': 27,\n",
       " 'ь': 28,\n",
       " 'ю': 29,\n",
       " 'я': 30,\n",
       " 'є': 31,\n",
       " 'і': 32,\n",
       " 'ї': 33,\n",
       " 'ґ': 34}"
      ]
     },
     "execution_count": 17,
     "metadata": {},
     "output_type": "execute_result"
    }
   ],
   "source": [
    "tokenizer.word2index"
   ]
  },
  {
   "cell_type": "code",
   "execution_count": 18,
   "metadata": {},
   "outputs": [],
   "source": [
    "X = tokenizer.transform(data.word_list)"
   ]
  },
  {
   "cell_type": "code",
   "execution_count": 58,
   "metadata": {},
   "outputs": [],
   "source": [
    "def pad_sequence(lst, max_seq=max_sequence_len):\n",
    "    if isinstance(lst[0], list):\n",
    "        return np.array([i + [0]*(max_seq-len(i)) for i in lst])\n",
    "    else:\n",
    "        lst + [0]*(max_seq-len(lst))"
   ]
  },
  {
   "cell_type": "code",
   "execution_count": 60,
   "metadata": {},
   "outputs": [],
   "source": [
    "# %%time\n",
    "\n",
    "# input_seq = zip(*itertools.zip_longest(*X, fillvalue=0))\n",
    "# input_seq = list(map(list, input_seq))\n",
    "# input_seq = np.array(input_seq)"
   ]
  },
  {
   "cell_type": "code",
   "execution_count": 61,
   "metadata": {},
   "outputs": [
    {
     "name": "stdout",
     "output_type": "stream",
     "text": [
      "CPU times: user 12.1 s, sys: 620 ms, total: 12.7 s\n",
      "Wall time: 12.7 s\n"
     ]
    }
   ],
   "source": [
    "%%time\n",
    "\n",
    "input_seq = pad_sequence(X)"
   ]
  },
  {
   "cell_type": "code",
   "execution_count": 20,
   "metadata": {},
   "outputs": [
    {
     "name": "stdout",
     "output_type": "stream",
     "text": [
      "(2757242, 28)\n"
     ]
    },
    {
     "data": {
      "text/plain": [
       "array([[21, 32, 13, ...,  0,  0,  0],\n",
       "       [21, 32, 13, ...,  0,  0,  0],\n",
       "       [21, 32, 13, ...,  0,  0,  0],\n",
       "       ...,\n",
       "       [ 7, 22, 32, ...,  0,  0,  0],\n",
       "       [ 7, 13, 13, ...,  0,  0,  0],\n",
       "       [ 7, 14,  3, ...,  0,  0,  0]])"
      ]
     },
     "execution_count": 20,
     "metadata": {},
     "output_type": "execute_result"
    }
   ],
   "source": [
    "print(input_seq.shape)\n",
    "input_seq"
   ]
  },
  {
   "cell_type": "code",
   "execution_count": 21,
   "metadata": {},
   "outputs": [],
   "source": [
    "y = data.word_stress_pos.values"
   ]
  },
  {
   "cell_type": "code",
   "execution_count": 22,
   "metadata": {},
   "outputs": [],
   "source": [
    "output_seq = zip(*itertools.zip_longest(*y, fillvalue=0))\n",
    "output_seq = list(map(list, output_seq))\n",
    "output_seq = np.array(output_seq).astype(int)"
   ]
  },
  {
   "cell_type": "code",
   "execution_count": 23,
   "metadata": {},
   "outputs": [
    {
     "name": "stdout",
     "output_type": "stream",
     "text": [
      "(2757242, 28)\n"
     ]
    },
    {
     "data": {
      "text/plain": [
       "array([[0, 0, 0, ..., 0, 0, 0],\n",
       "       [0, 0, 0, ..., 0, 0, 0],\n",
       "       [0, 0, 0, ..., 0, 0, 0],\n",
       "       ...,\n",
       "       [0, 0, 1, ..., 0, 0, 0],\n",
       "       [0, 1, 0, ..., 0, 0, 0],\n",
       "       [0, 1, 0, ..., 0, 0, 0]])"
      ]
     },
     "execution_count": 23,
     "metadata": {},
     "output_type": "execute_result"
    }
   ],
   "source": [
    "print(output_seq.shape)\n",
    "output_seq"
   ]
  },
  {
   "cell_type": "code",
   "execution_count": 24,
   "metadata": {},
   "outputs": [],
   "source": [
    "(input_seq_train, input_seq_val, \n",
    " output_seq_train, output_seq_val) = train_test_split(input_seq, \n",
    "                                                      output_seq, \n",
    "                                                      test_size=0.5, \n",
    "                                                      random_state=RANDOM_SEED)"
   ]
  },
  {
   "cell_type": "code",
   "execution_count": 25,
   "metadata": {},
   "outputs": [],
   "source": [
    "input_seq_train = torch.tensor(input_seq_train, dtype=torch.long).cuda()\n",
    "input_seq_val = torch.tensor(input_seq_val, dtype=torch.long).cuda()\n",
    "output_seq_train = torch.tensor(output_seq_train, dtype=torch.float).cuda()\n",
    "output_seq_val = torch.tensor(output_seq_val, dtype=torch.float).cuda()"
   ]
  },
  {
   "cell_type": "code",
   "execution_count": 26,
   "metadata": {},
   "outputs": [],
   "source": [
    "class MyDataset(Dataset):\n",
    "    def __init__(self, dataset):\n",
    "        self.dataset = dataset\n",
    "        \n",
    "    def __getitem__(self, index):\n",
    "        data,target = self.dataset[index]\n",
    "        return data, target, index\n",
    "    \n",
    "    def __len__(self):\n",
    "        return len(self.dataset)"
   ]
  },
  {
   "cell_type": "code",
   "execution_count": 27,
   "metadata": {},
   "outputs": [],
   "source": [
    "class LSTM_model(nn.Module):\n",
    "\n",
    "    def __init__(self, embedding_dim, hidden_dim, vocab_size, target_size):\n",
    "        super(LSTM_model, self).__init__()\n",
    "        self.hidden_dim = hidden_dim\n",
    "\n",
    "        self.embeddings = nn.Embedding(vocab_size, embedding_dim)\n",
    "\n",
    "        self.lstm = nn.LSTM(input_size=self.embeddings.embedding_dim,\n",
    "                            hidden_size=hidden_dim,\n",
    "                            num_layers=2,\n",
    "                            batch_first=True,\n",
    "                            bidirectional=True)\n",
    "        self.linear = nn.Linear(self.hidden_dim * 4 , 64)\n",
    "        self.batch_norm = nn.BatchNorm1d(self.hidden_dim * 4, affine=False)\n",
    "        self.relu = nn.ReLU()\n",
    "        self.dropout = nn.Dropout(0.2)\n",
    "        self.out = nn.Linear(32, target_size)\n",
    "\n",
    "    def forward(self, x):\n",
    "        h_embeddings = self.embeddings(x)\n",
    "        \n",
    "        h_lstm, _ = self.lstm(h_embeddings)\n",
    "        avg_pool = torch.mean(h_lstm, 1)\n",
    "        max_pool, _ = torch.max(h_lstm, 1)\n",
    "        x = torch.cat((avg_pool, max_pool), 1)\n",
    "        x = self.batch_norm(x)\n",
    "        x = self.linear(x)\n",
    "        x = self.relu(x)\n",
    "        x = self.dropout(x)\n",
    "        x = self.out(x)\n",
    "        y = nn.functional.softmax(x, dim=1)\n",
    "        return y"
   ]
  },
  {
   "cell_type": "code",
   "execution_count": 28,
   "metadata": {},
   "outputs": [
    {
     "data": {
      "text/plain": [
       "LSTM_model(\n",
       "  (embeddings): Embedding(35, 64)\n",
       "  (lstm): LSTM(64, 32, num_layers=2, batch_first=True, bidirectional=True)\n",
       "  (linear): Linear(in_features=128, out_features=64, bias=True)\n",
       "  (batch_norm): BatchNorm1d(128, eps=1e-05, momentum=0.1, affine=False, track_running_stats=True)\n",
       "  (relu): ReLU()\n",
       "  (dropout): Dropout(p=0.2, inplace=False)\n",
       "  (out): Linear(in_features=64, out_features=28, bias=True)\n",
       ")"
      ]
     },
     "execution_count": 28,
     "metadata": {},
     "output_type": "execute_result"
    }
   ],
   "source": [
    "model = LSTM_model(embedding_dim=64, \n",
    "                   hidden_dim=32, \n",
    "                   vocab_size=len(tokenizer.word2index) + 1, \n",
    "                   target_size=max_sequence_len)\n",
    "model.cuda()"
   ]
  },
  {
   "cell_type": "code",
   "execution_count": 29,
   "metadata": {},
   "outputs": [],
   "source": [
    "loss_function = nn.BCEWithLogitsLoss()\n",
    "optimizer = torch.optim.Adam(filter(lambda p: p.requires_grad, model.parameters()), lr=1e-3)"
   ]
  },
  {
   "cell_type": "code",
   "execution_count": 31,
   "metadata": {},
   "outputs": [],
   "source": [
    "BATCH_SIZE = 256\n",
    "\n",
    "train = MyDataset(torch.utils.data.TensorDataset(input_seq_train, output_seq_train))\n",
    "valid = MyDataset(torch.utils.data.TensorDataset(input_seq_val, output_seq_val))\n",
    "\n",
    "train_loader = torch.utils.data.DataLoader(train, batch_size=BATCH_SIZE, shuffle=True)\n",
    "valid_loader = torch.utils.data.DataLoader(valid, batch_size=BATCH_SIZE, shuffle=False)"
   ]
  },
  {
   "cell_type": "code",
   "execution_count": 32,
   "metadata": {},
   "outputs": [],
   "source": [
    "# with torch.no_grad():\n",
    "#     (x_sample, y_sample, index) = train[:2]\n",
    "#     preds = model(x_sample.reshape(1, -1))\n",
    "#     print(preds.shape)"
   ]
  },
  {
   "cell_type": "markdown",
   "metadata": {},
   "source": [
    "### K-Fold training"
   ]
  },
  {
   "cell_type": "code",
   "execution_count": 33,
   "metadata": {},
   "outputs": [],
   "source": [
    "from sklearn.model_selection import KFold"
   ]
  },
  {
   "cell_type": "code",
   "execution_count": 34,
   "metadata": {},
   "outputs": [],
   "source": [
    "n_folds = 5"
   ]
  },
  {
   "cell_type": "code",
   "execution_count": 35,
   "metadata": {},
   "outputs": [],
   "source": [
    "kf = KFold(n_splits=n_folds, shuffle=True, random_state=RANDOM_SEED)\n",
    "# kf.get_n_splits(X=input_seq, y=output_seq)"
   ]
  },
  {
   "cell_type": "code",
   "execution_count": 36,
   "metadata": {},
   "outputs": [
    {
     "name": "stdout",
     "output_type": "stream",
     "text": [
      "(2205793,) (551449,)\n",
      "(2205793,) (551449,)\n",
      "(2205794,) (551448,)\n",
      "(2205794,) (551448,)\n",
      "(2205794,) (551448,)\n"
     ]
    }
   ],
   "source": [
    "for train_index, test_index in kf.split(X=input_seq, y=output_seq):\n",
    "    print(train_index.shape, test_index.shape)"
   ]
  },
  {
   "cell_type": "code",
   "execution_count": 37,
   "metadata": {},
   "outputs": [
    {
     "data": {
      "text/plain": [
       "array([[21, 32, 13, ...,  0,  0,  0],\n",
       "       [21, 32, 13, ...,  0,  0,  0],\n",
       "       [21, 32, 13, ...,  0,  0,  0],\n",
       "       ...,\n",
       "       [ 7, 22, 32, ...,  0,  0,  0],\n",
       "       [ 7, 13, 13, ...,  0,  0,  0],\n",
       "       [ 7, 14,  3, ...,  0,  0,  0]])"
      ]
     },
     "execution_count": 37,
     "metadata": {},
     "output_type": "execute_result"
    }
   ],
   "source": [
    "input_seq"
   ]
  },
  {
   "cell_type": "markdown",
   "metadata": {},
   "source": [
    "### Training loop"
   ]
  },
  {
   "cell_type": "code",
   "execution_count": 38,
   "metadata": {},
   "outputs": [
    {
     "name": "stdout",
     "output_type": "stream",
     "text": [
      "Epoch [1/50]  progress = 100% \t loss=0.6935 \t acc=60.50% \n",
      "Epoch [1/50]  results:\t\t loss=0.6935\t acc=60.50%\t val_loss=0.6902\t val_acc=69.91%\t time=197.03s\n",
      "------------------------------------------------------------------------------\n",
      "Epoch [2/50]  progress = 100% \t loss=0.6895 \t acc=72.00% \n",
      "Epoch [2/50]  results:\t\t loss=0.6895\t acc=72.00%\t val_loss=0.6889\t val_acc=73.53%\t time=193.91s\n",
      "------------------------------------------------------------------------------\n",
      "Epoch [3/50]  progress = 100% \t loss=0.6887 \t acc=74.30% \n",
      "Epoch [3/50]  results:\t\t loss=0.6887\t acc=74.30%\t val_loss=0.6880\t val_acc=76.46%\t time=197.00s\n",
      "------------------------------------------------------------------------------\n",
      "Epoch [4/50]  progress = 100% \t loss=0.6880 \t acc=76.45% \n",
      "Epoch [4/50]  results:\t\t loss=0.6880\t acc=76.45%\t val_loss=0.6877\t val_acc=77.05%\t time=193.29s\n",
      "------------------------------------------------------------------------------\n",
      "Epoch [5/50]  progress = 100% \t loss=0.6877 \t acc=77.16% \n",
      "Epoch [5/50]  results:\t\t loss=0.6877\t acc=77.16%\t val_loss=0.6875\t val_acc=77.81%\t time=196.97s\n",
      "------------------------------------------------------------------------------\n",
      "Epoch [6/50]  progress = 100% \t loss=0.6875 \t acc=77.78% \n",
      "Epoch [6/50]  results:\t\t loss=0.6875\t acc=77.78%\t val_loss=0.6874\t val_acc=78.00%\t time=195.97s\n",
      "------------------------------------------------------------------------------\n",
      "Epoch [7/50]  progress = 100% \t loss=0.6874 \t acc=78.03% \n",
      "Epoch [7/50]  results:\t\t loss=0.6874\t acc=78.03%\t val_loss=0.6872\t val_acc=78.37%\t time=193.68s\n",
      "------------------------------------------------------------------------------\n",
      "Epoch [8/50]  progress = 100% \t loss=0.6873 \t acc=78.33% \n",
      "Epoch [8/50]  results:\t\t loss=0.6873\t acc=78.33%\t val_loss=0.6871\t val_acc=78.82%\t time=195.25s\n",
      "------------------------------------------------------------------------------\n",
      "Epoch [9/50]  progress = 100% \t loss=0.6871 \t acc=78.66% \n",
      "Epoch [9/50]  results:\t\t loss=0.6871\t acc=78.66%\t val_loss=0.6871\t val_acc=78.88%\t time=193.23s\n",
      "------------------------------------------------------------------------------\n",
      "Epoch [10/50]  progress = 100% \t loss=0.6871 \t acc=78.81% \n",
      "Epoch [10/50]  results:\t\t loss=0.6871\t acc=78.81%\t val_loss=0.6870\t val_acc=79.00%\t time=194.78s\n",
      "------------------------------------------------------------------------------\n",
      "Epoch [11/50]  progress = 100% \t loss=0.6870 \t acc=79.00% \n",
      "Epoch [11/50]  results:\t\t loss=0.6870\t acc=79.00%\t val_loss=0.6869\t val_acc=79.31%\t time=195.36s\n",
      "------------------------------------------------------------------------------\n",
      "Epoch [12/50]  progress = 100% \t loss=0.6870 \t acc=79.04% \n",
      "Epoch [12/50]  results:\t\t loss=0.6870\t acc=79.04%\t val_loss=0.6869\t val_acc=79.25%\t time=192.94s\n",
      "------------------------------------------------------------------------------\n",
      "Epoch [13/50]  progress = 100% \t loss=0.6870 \t acc=79.16% \n",
      "Epoch [13/50]  results:\t\t loss=0.6870\t acc=79.16%\t val_loss=0.6870\t val_acc=78.92%\t time=197.68s\n",
      "------------------------------------------------------------------------------\n",
      "Epoch [14/50]  progress = 100% \t loss=0.6870 \t acc=79.16% \n",
      "Epoch [14/50]  results:\t\t loss=0.6870\t acc=79.16%\t val_loss=0.6869\t val_acc=79.24%\t time=196.08s\n",
      "------------------------------------------------------------------------------\n",
      "Epoch [15/50]  progress = 100% \t loss=0.6870 \t acc=79.09% \n",
      "Epoch [15/50]  results:\t\t loss=0.6870\t acc=79.09%\t val_loss=0.6869\t val_acc=79.44%\t time=199.49s\n",
      "------------------------------------------------------------------------------\n",
      "Epoch [16/50]  progress = 100% \t loss=0.6869 \t acc=79.30% \n",
      "Epoch [16/50]  results:\t\t loss=0.6869\t acc=79.30%\t val_loss=0.6868\t val_acc=79.73%\t time=195.46s\n",
      "------------------------------------------------------------------------------\n",
      "Epoch [17/50]  progress = 100% \t loss=0.6869 \t acc=79.33% \n",
      "Epoch [17/50]  results:\t\t loss=0.6869\t acc=79.33%\t val_loss=0.6869\t val_acc=79.45%\t time=198.78s\n",
      "------------------------------------------------------------------------------\n",
      "Epoch [18/50]  progress = 100% \t loss=0.6868 \t acc=79.59% \n",
      "Epoch [18/50]  results:\t\t loss=0.6868\t acc=79.59%\t val_loss=0.6868\t val_acc=79.71%\t time=197.42s\n",
      "------------------------------------------------------------------------------\n",
      "Epoch [19/50]  progress = 100% \t loss=0.6869 \t acc=79.39% \n",
      "Epoch [19/50]  results:\t\t loss=0.6869\t acc=79.39%\t val_loss=0.6869\t val_acc=79.48%\t time=195.85s\n",
      "------------------------------------------------------------------------------\n",
      "Epoch [20/50]  progress = 100% \t loss=0.6869 \t acc=79.43% \n",
      "Epoch [20/50]  results:\t\t loss=0.6869\t acc=79.43%\t val_loss=0.6869\t val_acc=79.29%\t time=196.27s\n",
      "------------------------------------------------------------------------------\n",
      "Epoch [21/50]  progress = 100% \t loss=0.6869 \t acc=79.47% \n",
      "Epoch [21/50]  results:\t\t loss=0.6869\t acc=79.47%\t val_loss=0.6868\t val_acc=79.56%\t time=198.63s\n",
      "------------------------------------------------------------------------------\n",
      "Epoch [22/50]  progress = 100% \t loss=0.6869 \t acc=79.48% \n",
      "Epoch [22/50]  results:\t\t loss=0.6869\t acc=79.48%\t val_loss=0.6870\t val_acc=79.18%\t time=196.65s\n",
      "------------------------------------------------------------------------------\n",
      "Epoch [23/50]  progress = 100% \t loss=0.6869 \t acc=79.26% \n",
      "Epoch [23/50]  results:\t\t loss=0.6869\t acc=79.26%\t val_loss=0.6868\t val_acc=79.66%\t time=196.58s\n",
      "------------------------------------------------------------------------------\n",
      "Epoch [24/50]  progress = 100% \t loss=0.6868 \t acc=79.61% \n",
      "Epoch [24/50]  results:\t\t loss=0.6868\t acc=79.61%\t val_loss=0.6866\t val_acc=80.26%\t time=197.08s\n",
      "------------------------------------------------------------------------------\n",
      "Epoch [25/50]  progress = 100% \t loss=0.6866 \t acc=80.38% \n",
      "Epoch [25/50]  results:\t\t loss=0.6866\t acc=80.38%\t val_loss=0.6864\t val_acc=80.78%\t time=195.12s\n",
      "------------------------------------------------------------------------------\n",
      "Epoch [26/50]  progress = 100% \t loss=0.6865 \t acc=80.53% \n",
      "Epoch [26/50]  results:\t\t loss=0.6865\t acc=80.53%\t val_loss=0.6864\t val_acc=80.79%\t time=194.62s\n",
      "------------------------------------------------------------------------------\n",
      "Epoch [27/50]  progress = 100% \t loss=0.6865 \t acc=80.41% \n",
      "Epoch [27/50]  results:\t\t loss=0.6865\t acc=80.41%\t val_loss=0.6865\t val_acc=80.65%\t time=196.65s\n",
      "------------------------------------------------------------------------------\n",
      "Epoch [28/50]  progress = 100% \t loss=0.6865 \t acc=80.44% \n",
      "Epoch [28/50]  results:\t\t loss=0.6865\t acc=80.44%\t val_loss=0.6865\t val_acc=80.57%\t time=196.46s\n",
      "------------------------------------------------------------------------------\n",
      "Epoch [29/50]  progress = 100% \t loss=0.6866 \t acc=80.28% \n",
      "Epoch [29/50]  results:\t\t loss=0.6866\t acc=80.28%\t val_loss=0.6866\t val_acc=80.34%\t time=194.91s\n",
      "------------------------------------------------------------------------------\n",
      "Epoch [30/50]  progress = 100% \t loss=0.6866 \t acc=80.21% \n",
      "Epoch [30/50]  results:\t\t loss=0.6866\t acc=80.21%\t val_loss=0.6865\t val_acc=80.45%\t time=195.74s\n",
      "------------------------------------------------------------------------------\n",
      "Epoch [31/50]  progress = 100% \t loss=0.6867 \t acc=80.06% \n",
      "Epoch [31/50]  results:\t\t loss=0.6867\t acc=80.06%\t val_loss=0.6867\t val_acc=79.88%\t time=196.98s\n",
      "------------------------------------------------------------------------------\n",
      "Epoch [32/50]  progress = 100% \t loss=0.6866 \t acc=80.23% \n",
      "Epoch [32/50]  results:\t\t loss=0.6866\t acc=80.23%\t val_loss=0.6866\t val_acc=80.34%\t time=199.63s\n",
      "------------------------------------------------------------------------------\n",
      "Epoch [33/50]  progress = 100% \t loss=0.6866 \t acc=80.19% \n",
      "Epoch [33/50]  results:\t\t loss=0.6866\t acc=80.19%\t val_loss=0.6866\t val_acc=80.18%\t time=196.07s\n",
      "------------------------------------------------------------------------------\n",
      "Epoch [34/50]  progress = 100% \t loss=0.6866 \t acc=80.40% \n",
      "Epoch [34/50]  results:\t\t loss=0.6866\t acc=80.40%\t val_loss=0.6863\t val_acc=81.10%\t time=194.77s\n",
      "------------------------------------------------------------------------------\n",
      "Epoch [35/50]  progress = 100% \t loss=0.6864 \t acc=80.93% \n",
      "Epoch [35/50]  results:\t\t loss=0.6864\t acc=80.93%\t val_loss=0.6865\t val_acc=80.65%\t time=193.00s\n",
      "------------------------------------------------------------------------------\n"
     ]
    },
    {
     "name": "stdout",
     "output_type": "stream",
     "text": [
      "Epoch [36/50]  progress = 100% \t loss=0.6865 \t acc=80.59% \n",
      "Epoch [36/50]  results:\t\t loss=0.6865\t acc=80.59%\t val_loss=0.6865\t val_acc=80.71%\t time=194.77s\n",
      "------------------------------------------------------------------------------\n",
      "Epoch [37/50]  progress = 100% \t loss=0.6865 \t acc=80.58% \n",
      "Epoch [37/50]  results:\t\t loss=0.6865\t acc=80.58%\t val_loss=0.6863\t val_acc=81.24%\t time=197.09s\n",
      "------------------------------------------------------------------------------\n",
      "Epoch [38/50]  progress = 100% \t loss=0.6865 \t acc=80.63% \n",
      "Epoch [38/50]  results:\t\t loss=0.6865\t acc=80.63%\t val_loss=0.6866\t val_acc=80.22%\t time=194.56s\n",
      "------------------------------------------------------------------------------\n",
      "Epoch [40/50]  progress = 100% \t loss=0.6865 \t acc=80.53% \n",
      "Epoch [40/50]  results:\t\t loss=0.6865\t acc=80.53%\t val_loss=0.6864\t val_acc=80.92%\t time=192.52s\n",
      "------------------------------------------------------------------------------\n",
      "Epoch [41/50]  progress = 100% \t loss=0.6864 \t acc=80.94% \n",
      "Epoch [41/50]  results:\t\t loss=0.6864\t acc=80.94%\t val_loss=0.6863\t val_acc=81.05%\t time=197.55s\n",
      "------------------------------------------------------------------------------\n",
      "Epoch [42/50]  progress = 100% \t loss=0.6865 \t acc=80.63% \n",
      "Epoch [42/50]  results:\t\t loss=0.6865\t acc=80.63%\t val_loss=0.6865\t val_acc=80.49%\t time=197.87s\n",
      "------------------------------------------------------------------------------\n",
      "Epoch [43/50]  progress = 100% \t loss=0.6866 \t acc=80.43% \n",
      "Epoch [43/50]  results:\t\t loss=0.6866\t acc=80.43%\t val_loss=0.6867\t val_acc=80.11%\t time=197.02s\n",
      "------------------------------------------------------------------------------\n",
      "Epoch [44/50]  progress = 100% \t loss=0.6867 \t acc=80.09% \n",
      "Epoch [44/50]  results:\t\t loss=0.6867\t acc=80.09%\t val_loss=0.6868\t val_acc=79.83%\t time=194.02s\n",
      "------------------------------------------------------------------------------\n",
      "Epoch [45/50]  progress = 100% \t loss=0.6866 \t acc=80.37% \n",
      "Epoch [45/50]  results:\t\t loss=0.6866\t acc=80.37%\t val_loss=0.6865\t val_acc=80.48%\t time=194.51s\n",
      "------------------------------------------------------------------------------\n",
      "Epoch [46/50]  progress = 100% \t loss=0.6865 \t acc=80.65% \n",
      "Epoch [46/50]  results:\t\t loss=0.6865\t acc=80.65%\t val_loss=0.6864\t val_acc=80.87%\t time=194.30s\n",
      "------------------------------------------------------------------------------\n",
      "Epoch [47/50]  progress = 100% \t loss=0.6866 \t acc=80.39% \n",
      "Epoch [47/50]  results:\t\t loss=0.6866\t acc=80.39%\t val_loss=0.6867\t val_acc=80.02%\t time=195.24s\n",
      "------------------------------------------------------------------------------\n",
      "Epoch [48/50]  progress = 100% \t loss=0.6866 \t acc=80.35% \n",
      "Epoch [48/50]  results:\t\t loss=0.6866\t acc=80.35%\t val_loss=0.6865\t val_acc=80.65%\t time=196.49s\n",
      "------------------------------------------------------------------------------\n",
      "Epoch [49/50]  progress = 100% \t loss=0.6867 \t acc=80.14% \n",
      "Epoch [49/50]  results:\t\t loss=0.6867\t acc=80.14%\t val_loss=0.6865\t val_acc=80.57%\t time=201.75s\n",
      "------------------------------------------------------------------------------\n",
      "Epoch [50/50]  progress = 100% \t loss=0.6866 \t acc=80.29% \n",
      "Epoch [50/50]  results:\t\t loss=0.6866\t acc=80.29%\t val_loss=0.6865\t val_acc=80.55%\t time=196.69s\n",
      "------------------------------------------------------------------------------\n"
     ]
    }
   ],
   "source": [
    "n_epochs = 1\n",
    "history = {'train': {}, 'val': {}}\n",
    "teacher_forcing_ratio = 0.5\n",
    "\n",
    "for epoch in range(1, n_epochs + 1):\n",
    "    start_time = time.time()\n",
    "    \n",
    "    model.train()\n",
    "\n",
    "    avg_loss, total_loss, avg_acc, total_acc = 0., 0., 0., 0.\n",
    "    for i, (x_batch, y_batch, index) in enumerate(train_loader):\n",
    "        y_pred = model(x_batch)\n",
    "        loss = loss_function(y_pred, y_batch)\n",
    "        \n",
    "        optimizer.zero_grad()\n",
    "        loss.backward()\n",
    "        optimizer.step()\n",
    "        \n",
    "        equal = torch.eq(torch.argmax(y_pred, axis=1), torch.argmax(y_batch, axis=1))\n",
    "        batch_acc = int(equal.sum(-1)) / y_batch.shape[0]\n",
    "        batch_loss = loss.item()\n",
    "        \n",
    "        total_acc += batch_acc\n",
    "        total_loss += batch_loss\n",
    "        print(f\"\\rEpoch [{epoch}/{n_epochs}] \"\n",
    "              f\" progress = {round(i/len(train_loader)*100)}% \"\n",
    "              f\"\\t loss={total_loss / (i + 1):.4f} \"\n",
    "              f\"\\t acc={total_acc / (i + 1) * 100:.2f}% \", end='')\n",
    "    avg_loss = total_loss / len(train_loader)\n",
    "    avg_acc = total_acc / len(train_loader)\n",
    "    history['train']['loss'] = history.get('train', {}).get('loss', []) + [avg_loss]\n",
    "    history['train']['accuracy'] = history.get('train', {}).get('accuracy', []) + [avg_acc]\n",
    "        \n",
    "    model.eval()\n",
    "\n",
    "    \n",
    "    avg_val_loss, total_val_loss, avg_val_acc, total_val_acc = 0., 0., 0., 0.\n",
    "    for i, (x_batch, y_batch, index) in enumerate(valid_loader):\n",
    "        y_pred = model(x_batch).detach()\n",
    "        val_loss = loss_function(y_pred, y_batch)\n",
    "        \n",
    "        equal = torch.eq(torch.argmax(y_pred, axis=1), torch.argmax(y_batch, axis=1))\n",
    "        batch_val_acc = int(equal.sum(-1)) / y_batch.shape[0]\n",
    "        batch_val_loss = val_loss.item()\n",
    "        \n",
    "        total_val_acc += batch_val_acc\n",
    "        total_val_loss += batch_val_loss\n",
    "    avg_val_loss = total_val_loss / len(valid_loader)\n",
    "    avg_val_acc = total_val_acc / len(valid_loader)\n",
    "    history['val']['loss'] = history.get('val', {}).get('loss', []) + [avg_val_loss]\n",
    "    history['val']['accuracy'] = history.get('val', {}).get('accuracy', []) + [avg_val_acc]\n",
    "    \n",
    "    elapsed_time = time.time() - start_time \n",
    "    print(f\"\\nEpoch [{epoch}/{n_epochs}]  results:\"\n",
    "          f\"\\t\\t loss={avg_loss:.4f}\"\n",
    "          f\"\\t acc={avg_acc * 100:.2f}%\"\n",
    "          f\"\\t val_loss={avg_val_loss:.4f}\"\n",
    "          f\"\\t val_acc={avg_val_acc * 100:.2f}%\"\n",
    "          f\"\\t time={elapsed_time:.2f}s\")\n",
    "    print(\"-\"*78)"
   ]
  },
  {
   "cell_type": "code",
   "execution_count": 42,
   "metadata": {},
   "outputs": [
    {
     "data": {
      "image/png": "[encoded data removed]",
      "text/plain": [
       "<Figure size 864x576 with 1 Axes>"
      ]
     },
     "metadata": {
      "needs_background": "light"
     },
     "output_type": "display_data"
    }
   ],
   "source": [
    "plt.figure(figsize=(12, 8))\n",
    "\n",
    "plt.plot(history['train']['loss'])\n",
    "plt.plot(history['val']['loss'])\n",
    "plt.title('model loss')\n",
    "plt.ylabel('val')\n",
    "plt.xlabel('epoch')\n",
    "plt.xticks(np.arange(len(history['train']['loss'])), np.arange(1, len(history['train']['loss']) + 1))\n",
    "plt.legend(['train', 'val'], loc='upper right')\n",
    "\n",
    "plt.show()"
   ]
  },
  {
   "cell_type": "code",
   "execution_count": 43,
   "metadata": {},
   "outputs": [
    {
     "data": {
      "image/png": "[encoded data removed]",
      "text/plain": [
       "<Figure size 864x576 with 1 Axes>"
      ]
     },
     "metadata": {
      "needs_background": "light"
     },
     "output_type": "display_data"
    }
   ],
   "source": [
    "plt.figure(figsize=(12, 8))\n",
    "\n",
    "plt.plot(history['train']['accuracy'])\n",
    "plt.plot(history['val']['accuracy'])\n",
    "plt.title('model accuracy')\n",
    "plt.ylabel('accuracy')\n",
    "plt.xlabel('epoch')\n",
    "plt.xticks(np.arange(len(history['train']['accuracy'])), np.arange(1, len(history['train']['accuracy']) + 1))\n",
    "plt.legend(['train', 'val'], loc='lower right')\n",
    "\n",
    "plt.show()"
   ]
  },
  {
   "cell_type": "markdown",
   "metadata": {},
   "source": [
    "### Predict"
   ]
  },
  {
   "cell_type": "code",
   "execution_count": 113,
   "metadata": {},
   "outputs": [],
   "source": [
    "def predict(words, mode='stress'):\n",
    "    tokens = pad_sequence(tokenizer.transform(words))\n",
    "    sequences = torch.tensor(tokens, dtype=torch.long).cuda()\n",
    "    preds = model(sequences)\n",
    "    indeces = torch.argmax(preds, axis=1)\n",
    "    if mode == 'stress':\n",
    "        return [word[:index+1] + chr(769) + word[index+1:] for word, index in zip(words, indeces)]\n",
    "    elif mode == 'asterisk':\n",
    "        return [word[:index+1] + \"*\" + word[index+1:] for word, index in zip(words, indeces)]\n",
    "    else:\n",
    "        raise ValueError(f\"Wrong `mode`={mode}\")"
   ]
  },
  {
   "cell_type": "code",
   "execution_count": 114,
   "metadata": {},
   "outputs": [],
   "source": [
    "words = [\"словотворення\", \"архаїчний\"]"
   ]
  },
  {
   "cell_type": "code",
   "execution_count": 115,
   "metadata": {},
   "outputs": [
    {
     "data": {
      "text/plain": [
       "['словотво́рення', 'арха́їчний']"
      ]
     },
     "execution_count": 115,
     "metadata": {},
     "output_type": "execute_result"
    }
   ],
   "source": [
    "predict(words)"
   ]
  },
  {
   "cell_type": "code",
   "execution_count": null,
   "metadata": {},
   "outputs": [],
   "source": []
  },
  {
   "cell_type": "code",
   "execution_count": null,
   "metadata": {},
   "outputs": [],
   "source": []
  },
  {
   "cell_type": "code",
   "execution_count": null,
   "metadata": {},
   "outputs": [],
   "source": []
  },
  {
   "cell_type": "code",
   "execution_count": null,
   "metadata": {},
   "outputs": [],
   "source": []
  },
  {
   "cell_type": "code",
   "execution_count": null,
   "metadata": {},
   "outputs": [],
   "source": []
  }
 ],
 "metadata": {
  "kernelspec": {
   "display_name": "Environment (conda_pytorch_latest_p37)",
   "language": "python",
   "name": "conda_pytorch_latest_p37"
  },
  "language_info": {
   "codemirror_mode": {
    "name": "ipython",
    "version": 3
   },
   "file_extension": ".py",
   "mimetype": "text/x-python",
   "name": "python",
   "nbconvert_exporter": "python",
   "pygments_lexer": "ipython3",
   "version": "3.7.6"
  }
 },
 "nbformat": 4,
 "nbformat_minor": 4
}
