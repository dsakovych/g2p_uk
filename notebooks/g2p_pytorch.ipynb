{
 "cells": [
  {
   "cell_type": "code",
   "execution_count": 1,
   "metadata": {},
   "outputs": [],
   "source": [
    "import os\n",
    "import gzip\n",
    "import json\n",
    "import datetime\n",
    "import time\n",
    "import random\n",
    "import torch\n",
    "import torch.nn as nn\n",
    "import torch.nn.functional as F\n",
    "import numpy as np\n",
    "import pandas as pd\n",
    "import matplotlib.pyplot as plt\n",
    "import matplotlib.ticker as ticker\n",
    "\n",
    "from tqdm import tqdm\n",
    "from collections import Counter\n",
    "from operator import itemgetter\n",
    "\n",
    "from sklearn.model_selection import train_test_split, KFold\n",
    "from torch.utils.data import Dataset, DataLoader"
   ]
  },
  {
   "cell_type": "code",
   "execution_count": 2,
   "metadata": {},
   "outputs": [
    {
     "data": {
      "text/plain": [
       "<torch.autograd.anomaly_mode.set_detect_anomaly at 0x7f52a49d4610>"
      ]
     },
     "execution_count": 2,
     "metadata": {},
     "output_type": "execute_result"
    }
   ],
   "source": [
    "torch.autograd.set_detect_anomaly(True)"
   ]
  },
  {
   "cell_type": "code",
   "execution_count": 3,
   "metadata": {},
   "outputs": [
    {
     "data": {
      "text/plain": [
       "device(type='cuda')"
      ]
     },
     "execution_count": 3,
     "metadata": {},
     "output_type": "execute_result"
    }
   ],
   "source": [
    "device = torch.device(\"cuda\" if torch.cuda.is_available() else \"cpu\")\n",
    "device"
   ]
  },
  {
   "cell_type": "code",
   "execution_count": 4,
   "metadata": {},
   "outputs": [],
   "source": [
    "%matplotlib inline\n",
    "\n",
    "DATA_PATH = '../data/phone_data.json.gz'\n",
    "MODEL_SAVE_PATH = '../models/seq2seq_attn_1024.pt'\n",
    "RANDOM_SEED = 0"
   ]
  },
  {
   "cell_type": "code",
   "execution_count": 5,
   "metadata": {},
   "outputs": [],
   "source": [
    "def seed_everything(seed=0):\n",
    "    random.seed(seed)\n",
    "    os.environ['PYTHONHASHSEED'] = str(seed)\n",
    "    np.random.seed(seed)\n",
    "    torch.manual_seed(seed)\n",
    "    torch.cuda.manual_seed(seed)\n",
    "    torch.backends.cudnn.deterministic = True\n",
    "    \n",
    "seed_everything(RANDOM_SEED)"
   ]
  },
  {
   "cell_type": "markdown",
   "metadata": {},
   "source": [
    "### Load the data"
   ]
  },
  {
   "cell_type": "code",
   "execution_count": 6,
   "metadata": {},
   "outputs": [],
   "source": [
    "def gzip2json(path):\n",
    "    with gzip.GzipFile(path, 'r') as fin:\n",
    "        data = json.loads(fin.read().decode('utf-8'))\n",
    "    return data"
   ]
  },
  {
   "cell_type": "code",
   "execution_count": 7,
   "metadata": {},
   "outputs": [],
   "source": [
    "data = gzip2json(DATA_PATH)"
   ]
  },
  {
   "cell_type": "code",
   "execution_count": 8,
   "metadata": {},
   "outputs": [
    {
     "name": "stderr",
     "output_type": "stream",
     "text": [
      "100%|██████████| 160385/160385 [00:04<00:00, 39619.77it/s]\n"
     ]
    }
   ],
   "source": [
    "words, letters, phones, str_poss = [], [], [], []\n",
    "ignored = 0\n",
    "phoneme_ignore_list = ['#', \"#́'\", \"{и^е}'\", \"{о^у}'\", \"о'\", \"ґ'\", \n",
    "                       \"{дж}'\", \"п:\", \"ц:\", \"ц':\", \"з':\", \"ш:\", \"р':\", \"м':\", \n",
    "                       \"ф:\", \"г:\", \"к':\", \"ш':\", \"п':\", \"б':\", \"ч:\", \"ф':\", \"х:\"]\n",
    "\n",
    "for item in tqdm(data):\n",
    "    word = item['word'].lower()\n",
    "    ltrs = [letter for letter in word]\n",
    "    phns = [phone.replace(chr(769), '') for phone in item['phones']]\n",
    "    stress_pos = [1 if chr(769) in item else 0 for item in item['phones']]\n",
    "    \n",
    "    # ignore words with rare phonemes\n",
    "    if any(_ in ' '.join(phns) for _ in phoneme_ignore_list):\n",
    "        ignored += 1\n",
    "        continue\n",
    "    \n",
    "    # ignore words with more then 1 stress\n",
    "#     if sum(stress_pos) > 1:\n",
    "#         ignored += 1\n",
    "#         continue\n",
    "       \n",
    "    words.append(word)\n",
    "    letters.append(ltrs)\n",
    "    phones.append(phns)\n",
    "    str_poss.append(stress_pos)\n",
    "\n",
    "data_preprocessed = pd.DataFrame(list(zip(words, letters, phones, str_poss)), \n",
    "                                 columns=[\"word\", \"letters\", \"phonemes\", \"stress_pos\"])"
   ]
  },
  {
   "cell_type": "code",
   "execution_count": 9,
   "metadata": {},
   "outputs": [
    {
     "name": "stdout",
     "output_type": "stream",
     "text": [
      "509\n"
     ]
    }
   ],
   "source": [
    "print(ignored)"
   ]
  },
  {
   "cell_type": "code",
   "execution_count": 10,
   "metadata": {},
   "outputs": [
    {
     "data": {
      "text/html": [
       "<div>\n",
       "<style scoped>\n",
       "    .dataframe tbody tr th:only-of-type {\n",
       "        vertical-align: middle;\n",
       "    }\n",
       "\n",
       "    .dataframe tbody tr th {\n",
       "        vertical-align: top;\n",
       "    }\n",
       "\n",
       "    .dataframe thead th {\n",
       "        text-align: right;\n",
       "    }\n",
       "</style>\n",
       "<table border=\"1\" class=\"dataframe\">\n",
       "  <thead>\n",
       "    <tr style=\"text-align: right;\">\n",
       "      <th></th>\n",
       "      <th>word</th>\n",
       "      <th>letters</th>\n",
       "      <th>phonemes</th>\n",
       "      <th>stress_pos</th>\n",
       "    </tr>\n",
       "  </thead>\n",
       "  <tbody>\n",
       "    <tr>\n",
       "      <th>77619</th>\n",
       "      <td>молякевич</td>\n",
       "      <td>[м, о, л, я, к, е, в, и, ч]</td>\n",
       "      <td>[м, о, л', а, к, е, в, {и^е}, ч]</td>\n",
       "      <td>[0, 0, 0, 0, 0, 1, 0, 0, 0]</td>\n",
       "    </tr>\n",
       "    <tr>\n",
       "      <th>143414</th>\n",
       "      <td>тралити</td>\n",
       "      <td>[т, р, а, л, и, т, и]</td>\n",
       "      <td>[т, р, а, л, {и^е}, т, {и^е}]</td>\n",
       "      <td>[0, 0, 1, 0, 0, 0, 0]</td>\n",
       "    </tr>\n",
       "    <tr>\n",
       "      <th>101005</th>\n",
       "      <td>переслатися</td>\n",
       "      <td>[п, е, р, е, с, л, а, т, и, с, я]</td>\n",
       "      <td>[п, {е^и}, р, {е^и}, с, л, а, т, {и^е}, с', а]</td>\n",
       "      <td>[0, 0, 0, 0, 0, 0, 1, 0, 0, 0, 0]</td>\n",
       "    </tr>\n",
       "    <tr>\n",
       "      <th>2533</th>\n",
       "      <td>амністія</td>\n",
       "      <td>[а, м, н, і, с, т, і, я]</td>\n",
       "      <td>[а, м, н', і, с', т', і, й, а]</td>\n",
       "      <td>[0, 0, 0, 1, 0, 0, 0, 0, 0]</td>\n",
       "    </tr>\n",
       "    <tr>\n",
       "      <th>11049</th>\n",
       "      <td>болотня</td>\n",
       "      <td>[б, о, л, о, т, н, я]</td>\n",
       "      <td>[б, о, л, о, т', н', а]</td>\n",
       "      <td>[0, 0, 0, 1, 0, 0, 0]</td>\n",
       "    </tr>\n",
       "  </tbody>\n",
       "</table>\n",
       "</div>"
      ],
      "text/plain": [
       "               word                            letters  \\\n",
       "77619     молякевич        [м, о, л, я, к, е, в, и, ч]   \n",
       "143414      тралити              [т, р, а, л, и, т, и]   \n",
       "101005  переслатися  [п, е, р, е, с, л, а, т, и, с, я]   \n",
       "2533       амністія           [а, м, н, і, с, т, і, я]   \n",
       "11049       болотня              [б, о, л, о, т, н, я]   \n",
       "\n",
       "                                              phonemes  \\\n",
       "77619                 [м, о, л', а, к, е, в, {и^е}, ч]   \n",
       "143414                   [т, р, а, л, {и^е}, т, {и^е}]   \n",
       "101005  [п, {е^и}, р, {е^и}, с, л, а, т, {и^е}, с', а]   \n",
       "2533                    [а, м, н', і, с', т', і, й, а]   \n",
       "11049                          [б, о, л, о, т', н', а]   \n",
       "\n",
       "                               stress_pos  \n",
       "77619         [0, 0, 0, 0, 0, 1, 0, 0, 0]  \n",
       "143414              [0, 0, 1, 0, 0, 0, 0]  \n",
       "101005  [0, 0, 0, 0, 0, 0, 1, 0, 0, 0, 0]  \n",
       "2533          [0, 0, 0, 1, 0, 0, 0, 0, 0]  \n",
       "11049               [0, 0, 0, 1, 0, 0, 0]  "
      ]
     },
     "execution_count": 10,
     "metadata": {},
     "output_type": "execute_result"
    }
   ],
   "source": [
    "data_preprocessed.sample(5)"
   ]
  },
  {
   "cell_type": "code",
   "execution_count": 11,
   "metadata": {},
   "outputs": [
    {
     "data": {
      "text/plain": [
       "(33, 31)"
      ]
     },
     "execution_count": 11,
     "metadata": {},
     "output_type": "execute_result"
    }
   ],
   "source": [
    "max_seq_len_encoder = np.max(data_preprocessed.letters.map(len))\n",
    "max_seq_len_decoder = np.max(data_preprocessed.phonemes.map(len))\n",
    "max_seq_len_encoder, max_seq_len_decoder"
   ]
  },
  {
   "cell_type": "markdown",
   "metadata": {},
   "source": [
    "### Preprocess"
   ]
  },
  {
   "cell_type": "code",
   "execution_count": 12,
   "metadata": {},
   "outputs": [],
   "source": [
    "def flatten(array):\n",
    "    for item in array:\n",
    "        if isinstance(item, list):\n",
    "            yield from flatten(item)\n",
    "        else:\n",
    "            yield item"
   ]
  },
  {
   "cell_type": "code",
   "execution_count": 13,
   "metadata": {},
   "outputs": [],
   "source": [
    "OOV_TOKEN, OOV_TOKEN_INDEX = \"<UNK>\", 1\n",
    "SOS_TOKEN, SOS_TOKEN_INDEX = \"<SOS>\", 2\n",
    "EOS_TOKEN, EOS_TOKEN_INDEX = \"<EOS>\", 3\n",
    "\n",
    "\n",
    "class SequenceTokenizer:\n",
    "    \n",
    "    def __init__(self):\n",
    "        self.word2index = {OOV_TOKEN: OOV_TOKEN_INDEX, \n",
    "                           SOS_TOKEN: SOS_TOKEN_INDEX, \n",
    "                           EOS_TOKEN: EOS_TOKEN_INDEX}\n",
    "        self.index2word = {v: k for k, v in self.word2index.items()}\n",
    "        self.word_counter = Counter()\n",
    "        \n",
    "\n",
    "    def fit(self, sequence):\n",
    "        for item in sequence:\n",
    "            self.word_counter.update(Counter(item))\n",
    "        unique_words = sorted(self.word_counter.keys())\n",
    "        self.word2index.update(dict(zip(unique_words, \n",
    "                                        range(len(self.word2index) + 1, \n",
    "                                              len(unique_words) + len(self.word2index) + 1))))\n",
    "        self.index2word = {v: k for k, v in self.word2index.items()}\n",
    "        \n",
    "    \n",
    "    def transform(self, X):\n",
    "        res = []\n",
    "        for line in X:\n",
    "            res.append([self.word2index.get(item, OOV_TOKEN_INDEX) for item in line])\n",
    "        return res"
   ]
  },
  {
   "cell_type": "code",
   "execution_count": 14,
   "metadata": {},
   "outputs": [],
   "source": [
    "def pad_sequence(lst, max_sequence_len):\n",
    "    if isinstance(lst[0], list):\n",
    "        return np.array([i + [0]*(max_sequence_len-len(i)) for i in lst])\n",
    "    else:\n",
    "        lst + [0]*(max_sequence_len-len(lst))\n",
    "\n",
    "        \n",
    "def tokenize_sequence(tkn, sequence):\n",
    "    return [tkn.word2index[word] for word in sequence]\n",
    "\n",
    "\n",
    "\n",
    "def tensor_from_sequence(tkn, sequence):\n",
    "    indexes = tokenize_sequence(tkn, sequence)\n",
    "    indexes.append(EOS_TOKEN_INDEX)\n",
    "    return torch.tensor(indexes, dtype=torch.long, device=device).view(-1, 1)\n",
    "\n",
    "\n",
    "def tensors_from_pair(seq1, seq2):\n",
    "    input_tensor = tensor_from_sequence(input_tokenizer, seq1)\n",
    "    target_tensor = tensor_from_sequence(output_tokenizer, seq2)\n",
    "    return (input_tensor, target_tensor)"
   ]
  },
  {
   "cell_type": "code",
   "execution_count": 15,
   "metadata": {},
   "outputs": [],
   "source": [
    "input_tokenizer = SequenceTokenizer()\n",
    "input_tokenizer.fit(data_preprocessed.letters.values)\n",
    "\n",
    "output_tokenizer = SequenceTokenizer()\n",
    "output_tokenizer.fit(data_preprocessed.phonemes.values)"
   ]
  },
  {
   "cell_type": "code",
   "execution_count": 16,
   "metadata": {},
   "outputs": [],
   "source": [
    "# sorted(input_tokenizer.word_counter.items(), key=itemgetter(1), reverse = True) \n",
    "# input_tokenizer.word2index"
   ]
  },
  {
   "cell_type": "code",
   "execution_count": 17,
   "metadata": {},
   "outputs": [],
   "source": [
    "# sorted(output_tokenizer.word_counter.items(), key=itemgetter(1), reverse = True)\n",
    "# output_tokenizer.word2index"
   ]
  },
  {
   "cell_type": "code",
   "execution_count": 18,
   "metadata": {},
   "outputs": [
    {
     "data": {
      "text/plain": [
       "35"
      ]
     },
     "execution_count": 18,
     "metadata": {},
     "output_type": "execute_result"
    }
   ],
   "source": [
    "max_seq_len_encoder += 1  # count EOS\n",
    "max_seq_len_decoder += 2  # count SOS and EOS\n",
    "max_seq_len = np.max([max_seq_len_encoder, max_seq_len_decoder]) + 1\n",
    "max_seq_len"
   ]
  },
  {
   "cell_type": "code",
   "execution_count": 19,
   "metadata": {},
   "outputs": [],
   "source": [
    "# data_preprocessed = data_preprocessed.loc[data_preprocessed.word.str.contains('ґ')]\n",
    "# data_preprocessed"
   ]
  },
  {
   "cell_type": "code",
   "execution_count": 20,
   "metadata": {},
   "outputs": [
    {
     "data": {
      "text/plain": [
       "(['а', 'б', 'и', 'я', 'к'], ['а', 'б', 'и', 'й', 'а', 'к'])"
      ]
     },
     "execution_count": 20,
     "metadata": {},
     "output_type": "execute_result"
    }
   ],
   "source": [
    "data = list(zip(data_preprocessed.letters.values[:100], data_preprocessed.phonemes.values[:100]))\n",
    "input_sample, target_sample = random.choice(data)\n",
    "input_sample, target_sample"
   ]
  },
  {
   "cell_type": "markdown",
   "metadata": {},
   "source": [
    "### Modeling"
   ]
  },
  {
   "cell_type": "code",
   "execution_count": 21,
   "metadata": {},
   "outputs": [],
   "source": [
    "class EncoderRNN(nn.Module):\n",
    "    def __init__(self, input_size, hidden_size):\n",
    "        super(EncoderRNN, self).__init__()\n",
    "        self.hidden_size = hidden_size\n",
    "\n",
    "        self.embedding = nn.Embedding(input_size, hidden_size)\n",
    "        self.gru = nn.GRU(hidden_size, hidden_size)\n",
    "\n",
    "    def forward(self, input, hidden):\n",
    "        embedded = self.embedding(input).view(1, 1, -1)\n",
    "        output = embedded\n",
    "        output, hidden = self.gru(output, hidden)\n",
    "        return output, hidden\n",
    "\n",
    "    def init_hidden(self):\n",
    "        return torch.zeros(1, 1, self.hidden_size, device=device)"
   ]
  },
  {
   "cell_type": "code",
   "execution_count": 22,
   "metadata": {},
   "outputs": [],
   "source": [
    "class AttnDecoderRNN(nn.Module):\n",
    "    def __init__(self, hidden_size, output_size, max_length=max_seq_len):\n",
    "        super(AttnDecoderRNN, self).__init__()\n",
    "        self.hidden_size = hidden_size\n",
    "        self.output_size = output_size\n",
    "        self.max_length = max_length\n",
    "\n",
    "        self.embedding = nn.Embedding(self.output_size, self.hidden_size)\n",
    "        self.attn = nn.Linear(self.hidden_size * 2, self.max_length)\n",
    "        self.attn_combine = nn.Linear(self.hidden_size * 2, self.hidden_size)\n",
    "        self.dropout = nn.Dropout(0.1)\n",
    "        self.gru = nn.GRU(self.hidden_size, self.hidden_size)\n",
    "        self.out = nn.Linear(self.hidden_size, self.output_size)\n",
    "\n",
    "    def forward(self, input, hidden, encoder_outputs):\n",
    "        embedded = self.embedding(input).view(1, 1, -1)\n",
    "        embedded = self.dropout(embedded)\n",
    "\n",
    "        attn_weights = F.softmax(\n",
    "            self.attn(torch.cat((embedded[0], hidden[0]), 1)), dim=1)\n",
    "        attn_applied = torch.bmm(attn_weights.unsqueeze(0),\n",
    "                                 encoder_outputs.unsqueeze(0))\n",
    "\n",
    "        output = torch.cat((embedded[0], attn_applied[0]), 1)\n",
    "        output = self.attn_combine(output).unsqueeze(0)\n",
    "\n",
    "        output = F.relu(output)\n",
    "        output, hidden = self.gru(output, hidden)\n",
    "\n",
    "        output = F.log_softmax(self.out(output[0]), dim=1)\n",
    "        return output, hidden, attn_weights\n",
    "\n",
    "    def init_hidden(self):\n",
    "        return torch.zeros(1, 1, self.hidden_size, device=device)"
   ]
  },
  {
   "cell_type": "markdown",
   "metadata": {},
   "source": [
    "#### Initialize the model"
   ]
  },
  {
   "cell_type": "code",
   "execution_count": 23,
   "metadata": {},
   "outputs": [],
   "source": [
    "hidden_size = 1024\n",
    "\n",
    "encoder = EncoderRNN(len(input_tokenizer.word2index) + 1, hidden_size).to(device)\n",
    "decoder = AttnDecoderRNN(hidden_size, len(output_tokenizer.word2index) + 1).to(device)"
   ]
  },
  {
   "cell_type": "code",
   "execution_count": 24,
   "metadata": {},
   "outputs": [],
   "source": [
    "encoder_optimizer = torch.optim.SGD(encoder.parameters(), lr=1e-3)\n",
    "decoder_optimizer = torch.optim.SGD(decoder.parameters(), lr=1e-3)\n",
    "\n",
    "criterion = nn.NLLLoss()"
   ]
  },
  {
   "cell_type": "markdown",
   "metadata": {},
   "source": [
    "#### Check the inference"
   ]
  },
  {
   "cell_type": "code",
   "execution_count": 25,
   "metadata": {},
   "outputs": [
    {
     "name": "stdout",
     "output_type": "stream",
     "text": [
      "['а', 'б', 'и', 'я', 'к'] ['а', 'б', 'и', 'й', 'а', 'к']\n"
     ]
    },
    {
     "data": {
      "text/plain": [
       "['<UNK>', '<UNK>', '<UNK>', '<UNK>', '<UNK>', 'б:', 'б:']"
      ]
     },
     "execution_count": 25,
     "metadata": {},
     "output_type": "execute_result"
    }
   ],
   "source": [
    "print(input_sample, target_sample)\n",
    "with torch.no_grad():\n",
    "    input_tensor, target_tensor = tensors_from_pair(input_sample, target_sample)\n",
    "    \n",
    "    encoder_hidden = encoder.init_hidden()\n",
    "    \n",
    "    input_length = input_tensor.size(0)\n",
    "    target_length = target_tensor.size(0)\n",
    "    \n",
    "    encoder_outputs = torch.zeros(max_seq_len, encoder.hidden_size, device=device)\n",
    "    \n",
    "    for ei in range(input_length):\n",
    "        encoder_output, encoder_hidden = encoder(input_tensor[ei], encoder_hidden)\n",
    "        encoder_outputs[ei] = encoder_output[0, 0]\n",
    "    \n",
    "    decoder_input = torch.tensor([[SOS_TOKEN_INDEX]], device=device)\n",
    "\n",
    "    decoder_hidden = encoder_hidden\n",
    "    \n",
    "    decoded_word = []\n",
    "    for di in range(target_length):\n",
    "        decoder_output, decoder_hidden, decoder_attention = decoder(\n",
    "            decoder_input, decoder_hidden, encoder_outputs)\n",
    "        topv, topi = decoder_output.topk(1)\n",
    "        decoder_input = topi.squeeze().detach()  # detach from history as input\n",
    "\n",
    "        decoded_word.append(topi.item())\n",
    "\n",
    "        if decoder_input.item() == EOS_TOKEN_INDEX:\n",
    "            break\n",
    "\n",
    "[output_tokenizer.index2word.get(item, OOV_TOKEN) for item in decoded_word]"
   ]
  },
  {
   "cell_type": "markdown",
   "metadata": {},
   "source": [
    "#### Training the model"
   ]
  },
  {
   "cell_type": "code",
   "execution_count": 26,
   "metadata": {},
   "outputs": [
    {
     "name": "stdout",
     "output_type": "stream",
     "text": [
      "Epoch [1/20]  [90/90]  [0:00:16<0:00:16,  5.62 it/s]   loss=3.1594    acc=0.00% \n",
      "Epoch [1/20]  results:\t loss=3.1594\t acc=0.00%\t val_loss=2.5966\t val_acc=0.00%\t time=16.34s\n",
      "------------------------------------------------------------------------------\n",
      "Epoch [2/20]  [90/90]  [0:00:15<0:00:15,  6.00 it/s]   loss=2.4125    acc=0.00% \n",
      "Epoch [2/20]  results:\t loss=2.4125\t acc=0.00%\t val_loss=1.9640\t val_acc=0.00%\t time=15.85s\n",
      "------------------------------------------------------------------------------\n",
      "Epoch [3/20]  [90/90]  [0:00:15<0:00:15,  6.00 it/s]   loss=2.2003    acc=0.00% \n",
      "Epoch [3/20]  results:\t loss=2.2003\t acc=0.00%\t val_loss=1.9392\t val_acc=0.00%\t time=15.84s\n",
      "------------------------------------------------------------------------------\n",
      "Epoch [4/20]  [90/90]  [0:00:16<0:00:16,  5.62 it/s]   loss=2.1988    acc=0.00% \n",
      "Epoch [4/20]  results:\t loss=2.1988\t acc=0.00%\t val_loss=2.3157\t val_acc=0.00%\t time=16.56s\n",
      "------------------------------------------------------------------------------\n",
      "Epoch [5/20]  [90/90]  [0:00:16<0:00:16,  5.62 it/s]   loss=2.0911    acc=0.00% \n",
      "Epoch [5/20]  results:\t loss=2.0911\t acc=0.00%\t val_loss=2.0941\t val_acc=0.00%\t time=16.32s\n",
      "------------------------------------------------------------------------------\n",
      "Epoch [6/20]  [90/90]  [0:00:16<0:00:16,  5.62 it/s]   loss=2.0676    acc=0.00% \n",
      "Epoch [6/20]  results:\t loss=2.0676\t acc=0.00%\t val_loss=2.2121\t val_acc=0.00%\t time=16.40s\n",
      "------------------------------------------------------------------------------\n",
      "Epoch [7/20]  [90/90]  [0:00:16<0:00:16,  5.62 it/s]   loss=1.9705    acc=0.00% \n",
      "Epoch [7/20]  results:\t loss=1.9705\t acc=0.00%\t val_loss=2.0302\t val_acc=0.00%\t time=16.19s\n",
      "------------------------------------------------------------------------------\n",
      "Epoch [8/20]  [90/90]  [0:00:16<0:00:16,  5.62 it/s]   loss=1.9885    acc=0.00% \n",
      "Epoch [8/20]  results:\t loss=1.9885\t acc=0.00%\t val_loss=2.0062\t val_acc=0.00%\t time=16.45s\n",
      "------------------------------------------------------------------------------\n",
      "Epoch [9/20]  [90/90]  [0:00:15<0:00:15,  6.00 it/s]   loss=1.8686    acc=0.00% \n",
      "Epoch [9/20]  results:\t loss=1.8686\t acc=0.00%\t val_loss=2.1537\t val_acc=0.00%\t time=16.07s\n",
      "------------------------------------------------------------------------------\n",
      "Epoch [10/20]  [90/90]  [0:00:16<0:00:16,  5.62 it/s]   loss=1.9143    acc=0.00% \n",
      "Epoch [10/20]  results:\t loss=1.9143\t acc=0.00%\t val_loss=2.2977\t val_acc=0.00%\t time=16.38s\n",
      "------------------------------------------------------------------------------\n",
      "Epoch [11/20]  [90/90]  [0:00:16<0:00:16,  5.62 it/s]   loss=1.9589    acc=0.00% \n",
      "Epoch [11/20]  results:\t loss=1.9589\t acc=0.00%\t val_loss=2.1494\t val_acc=0.00%\t time=16.41s\n",
      "------------------------------------------------------------------------------\n",
      "Epoch [12/20]  [90/90]  [0:00:16<0:00:16,  5.62 it/s]   loss=1.9171    acc=0.00% \n",
      "Epoch [12/20]  results:\t loss=1.9171\t acc=0.00%\t val_loss=1.6582\t val_acc=0.00%\t time=16.31s\n",
      "------------------------------------------------------------------------------\n",
      "Epoch [13/20]  [90/90]  [0:00:16<0:00:16,  5.62 it/s]   loss=1.9220    acc=0.00% \n",
      "Epoch [13/20]  results:\t loss=1.9220\t acc=0.00%\t val_loss=1.6388\t val_acc=0.00%\t time=16.13s\n",
      "------------------------------------------------------------------------------\n",
      "Epoch [14/20]  [90/90]  [0:00:16<0:00:16,  5.62 it/s]   loss=1.8819    acc=0.00% \n",
      "Epoch [14/20]  results:\t loss=1.8819\t acc=0.00%\t val_loss=2.0574\t val_acc=0.00%\t time=16.67s\n",
      "------------------------------------------------------------------------------\n",
      "Epoch [15/20]  [90/90]  [0:00:16<0:00:16,  5.62 it/s]   loss=1.7621    acc=2.56%  \n",
      "Epoch [15/20]  results:\t loss=1.7621\t acc=2.56%\t val_loss=2.1506\t val_acc=0.00%\t time=16.56s\n",
      "------------------------------------------------------------------------------\n",
      "Epoch [16/20]  [90/90]  [0:00:16<0:00:16,  5.62 it/s]   loss=1.8339    acc=0.00% \n",
      "Epoch [16/20]  results:\t loss=1.8339\t acc=0.00%\t val_loss=2.0242\t val_acc=0.00%\t time=16.39s\n",
      "------------------------------------------------------------------------------\n",
      "Epoch [17/20]  [90/90]  [0:00:16<0:00:16,  5.62 it/s]   loss=1.7408    acc=2.33% \n",
      "Epoch [17/20]  results:\t loss=1.7408\t acc=2.33%\t val_loss=1.9435\t val_acc=10.00%\t time=16.50s\n",
      "------------------------------------------------------------------------------\n",
      "Epoch [18/20]  [90/90]  [0:00:16<0:00:16,  5.62 it/s]   loss=1.6699    acc=0.00% \n",
      "Epoch [18/20]  results:\t loss=1.6699\t acc=0.00%\t val_loss=1.9383\t val_acc=0.00%\t time=16.60s\n",
      "------------------------------------------------------------------------------\n",
      "Epoch [19/20]  [90/90]  [0:00:16<0:00:16,  5.62 it/s]   loss=1.6600    acc=2.08% \n",
      "Epoch [19/20]  results:\t loss=1.6600\t acc=2.08%\t val_loss=1.8297\t val_acc=0.00%\t time=16.59s\n",
      "------------------------------------------------------------------------------\n",
      "Epoch [20/20]  [90/90]  [0:00:16<0:00:16,  5.62 it/s]   loss=1.5949    acc=0.00% \n",
      "Epoch [20/20]  results:\t loss=1.5949\t acc=0.00%\t val_loss=1.7835\t val_acc=0.00%\t time=16.68s\n",
      "------------------------------------------------------------------------------\n"
     ]
    }
   ],
   "source": [
    "n_epochs = 20\n",
    "history = {'train': {}, 'val': {}}\n",
    "teacher_forcing_ratio = 0.5\n",
    "\n",
    "for epoch in range(1, n_epochs + 1):\n",
    "    start_time = time.time()\n",
    "    \n",
    "    train_data, val_data = train_test_split(data, test_size=0.1, random_state=random.randint(0, 1024))\n",
    "    train_size, val_size = len(train_data), len(val_data)\n",
    "    \n",
    "    encoder.train()\n",
    "    decoder.train()\n",
    "\n",
    "    avg_loss, total_loss, avg_acc, total_acc = 0., 0., 0., 0.\n",
    "    decoded_words_num = 0\n",
    "    for iter_num, (letters, phonemes) in enumerate(train_data, 1):\n",
    "        encoder_optimizer.zero_grad()\n",
    "        decoder_optimizer.zero_grad()\n",
    "\n",
    "    \n",
    "        input_tensor, target_tensor = tensors_from_pair(letters, phonemes)\n",
    "\n",
    "        input_length = input_tensor.size(0)\n",
    "        target_length = target_tensor.size(0)\n",
    "        \n",
    "        loss = 0\n",
    "        \n",
    "        #############################################################################\n",
    "        #############################################################################\n",
    "        \n",
    "        encoder_hidden = encoder.init_hidden()\n",
    "        encoder_outputs = torch.zeros(max_seq_len, encoder.hidden_size, device=device)\n",
    "\n",
    "        for ei in range(input_length):\n",
    "            encoder_output, encoder_hidden = encoder(input_tensor[ei], encoder_hidden)\n",
    "            encoder_outputs[ei] = encoder_output[0, 0]\n",
    "            \n",
    "        #############################################################################\n",
    "        #############################################################################\n",
    "\n",
    "        decoder_input = torch.tensor([[SOS_TOKEN_INDEX]], device=device)\n",
    "        decoder_hidden = encoder_hidden\n",
    "        \n",
    "        use_teacher_forcing = True if random.random() < teacher_forcing_ratio else False\n",
    "        \n",
    "        decoded_word = []\n",
    "        if use_teacher_forcing:\n",
    "            # Teacher forcing: Feed the target as the next input\n",
    "            for di in range(target_length):\n",
    "                decoder_output, decoder_hidden, decoder_attention = decoder(\n",
    "                    decoder_input, decoder_hidden, encoder_outputs)\n",
    "                loss += criterion(decoder_output, target_tensor[di])\n",
    "                decoder_input = target_tensor[di]  # Teacher forcing\n",
    "\n",
    "        else:\n",
    "            # Without teacher forcing: use its own predictions as the next input\n",
    "            for di in range(target_length):\n",
    "\n",
    "                decoder_output, decoder_hidden, decoder_attention = decoder(\n",
    "                    decoder_input, decoder_hidden, encoder_outputs)\n",
    "                topv, topi = decoder_output.topk(1)\n",
    "                decoder_input = topi.squeeze().detach()  # detach from history as input\n",
    "\n",
    "                loss += criterion(decoder_output, target_tensor[di])\n",
    "\n",
    "                decoded_word.append(topi.item())\n",
    "\n",
    "                if decoder_input.item() == EOS_TOKEN_INDEX:\n",
    "                    break\n",
    "\n",
    "        if len(decoded_word) != 0:\n",
    "            decoded_words_tensor = torch.tensor(decoded_word, dtype=torch.long, device=device).view(-1, 1)\n",
    "            acc = int(torch.equal(decoded_words_tensor, target_tensor))\n",
    "            total_acc += acc\n",
    "            decoded_words_num += 1\n",
    "                    \n",
    "        #############################################################################\n",
    "        #############################################################################\n",
    "\n",
    "        loss.backward()\n",
    "        \n",
    "        encoder_optimizer.step()\n",
    "        decoder_optimizer.step()\n",
    "\n",
    "        total_loss += loss.item() / target_length\n",
    "        avg_loss = total_loss / iter_num\n",
    "        if decoded_words_num == 0:\n",
    "            avg_acc = 0\n",
    "        else:\n",
    "            avg_acc = total_acc / decoded_words_num\n",
    "        \n",
    "        current_progress = iter_num/train_size\n",
    "        elapsed_time = np.ceil(time.time() - start_time)\n",
    "        estimated_time = np.ceil(elapsed_time/current_progress)\n",
    "        \n",
    "        print(f\"\\rEpoch [{epoch}/{n_epochs}] \"\n",
    "              f\" [{iter_num}/{train_size}] \"\n",
    "              f\" [{str(datetime.timedelta(seconds=elapsed_time))}<{str(datetime.timedelta(seconds=estimated_time))}, \"\n",
    "              f\" {iter_num/elapsed_time:.2f} it/s]\"\n",
    "              f\"   loss={avg_loss:.4f} \"\n",
    "              f\"   acc={avg_acc*100:.2f}% \", end='')\n",
    "        \n",
    "    history['train']['loss'] = history.get('train', {}).get('loss', []) + [avg_loss]\n",
    "    history['train']['accuracy'] = history.get('train', {}).get('accuracy', []) + [avg_acc]\n",
    "    \n",
    "    encoder.eval()\n",
    "    decoder.eval()\n",
    "    \n",
    "    \n",
    "    avg_val_loss, total_val_loss, avg_val_acc, total_val_acc = 0., 0., 0., 0.\n",
    "    for iter_num, (letters, phonemes) in enumerate(val_data, 1):\n",
    "    \n",
    "        input_tensor, target_tensor = tensors_from_pair(letters, phonemes)\n",
    "\n",
    "        input_length = input_tensor.size(0)\n",
    "        target_length = target_tensor.size(0)\n",
    "        \n",
    "        val_loss = 0\n",
    "        \n",
    "        #############################################################################\n",
    "        #############################################################################\n",
    "        \n",
    "        encoder_hidden = encoder.init_hidden()\n",
    "        encoder_outputs = torch.zeros(max_seq_len, encoder.hidden_size, device=device)\n",
    "\n",
    "        for ei in range(input_length):\n",
    "            encoder_output, encoder_hidden = encoder(input_tensor[ei], encoder_hidden)\n",
    "            encoder_outputs[ei] = encoder_output[0, 0]\n",
    "            \n",
    "        #############################################################################\n",
    "        #############################################################################\n",
    "\n",
    "        decoder_input = torch.tensor([[SOS_TOKEN_INDEX]], device=device)\n",
    "        decoder_hidden = encoder_hidden\n",
    "        \n",
    "        decoded_word = []\n",
    "        for di in range(target_length):\n",
    "            decoder_output, decoder_hidden, decoder_attention = decoder(\n",
    "                decoder_input, decoder_hidden, encoder_outputs)\n",
    "            topv, topi = decoder_output.topk(1)\n",
    "            decoder_input = topi.squeeze().detach()  # detach from history as input\n",
    "\n",
    "            val_loss += criterion(decoder_output, target_tensor[di])\n",
    "\n",
    "            decoded_word.append(topi.item())\n",
    "\n",
    "            if decoder_input.item() == EOS_TOKEN_INDEX:\n",
    "                break\n",
    "        decoded_words_tensor = torch.tensor(decoded_word, dtype=torch.long, device=device).view(-1, 1)\n",
    "        val_acc = int(torch.equal(decoded_words_tensor, target_tensor))\n",
    "                    \n",
    "        #############################################################################\n",
    "        #############################################################################\n",
    "\n",
    "        total_val_acc += val_acc\n",
    "        total_val_loss += val_loss.item() / target_length   \n",
    "        \n",
    "        \n",
    "    avg_val_loss = total_val_loss / val_size\n",
    "    avg_val_acc = total_val_acc / val_size\n",
    "    history['val']['loss'] = history.get('val', {}).get('loss', []) + [avg_val_loss]\n",
    "    history['val']['accuracy'] = history.get('val', {}).get('accuracy', []) + [avg_val_acc]\n",
    "    \n",
    "    elapsed_time = time.time() - start_time \n",
    "    print(f\"\\nEpoch [{epoch}/{n_epochs}]  results:\"\n",
    "          f\"\\t loss={avg_loss:.4f}\"\n",
    "          f\"\\t acc={avg_acc * 100:.2f}%\"\n",
    "          f\"\\t val_loss={avg_val_loss:.4f}\"\n",
    "          f\"\\t val_acc={avg_val_acc * 100:.2f}%\"\n",
    "          f\"\\t time={elapsed_time:.2f}s\")\n",
    "    print(\"-\"*78)"
   ]
  },
  {
   "cell_type": "code",
   "execution_count": 27,
   "metadata": {},
   "outputs": [
    {
     "data": {
      "image/png": "[encoded data removed]",
      "text/plain": [
       "<Figure size 864x576 with 1 Axes>"
      ]
     },
     "metadata": {
      "needs_background": "light"
     },
     "output_type": "display_data"
    }
   ],
   "source": [
    "plt.figure(figsize=(12, 8))\n",
    "\n",
    "plt.plot(history['train']['loss'])\n",
    "plt.plot(history['val']['loss'])\n",
    "plt.title('model loss')\n",
    "plt.ylabel('val')\n",
    "plt.xlabel('epoch')\n",
    "plt.xticks(np.arange(len(history['train']['loss'])), np.arange(1, len(history['train']['loss']) + 1))\n",
    "plt.legend(['train', 'val'], loc='upper right')\n",
    "\n",
    "plt.show()"
   ]
  },
  {
   "cell_type": "code",
   "execution_count": 28,
   "metadata": {},
   "outputs": [
    {
     "data": {
      "image/png": "[encoded data removed]",
      "text/plain": [
       "<Figure size 864x576 with 1 Axes>"
      ]
     },
     "metadata": {
      "needs_background": "light"
     },
     "output_type": "display_data"
    }
   ],
   "source": [
    "plt.figure(figsize=(12, 8))\n",
    "\n",
    "plt.plot(history['train']['accuracy'])\n",
    "plt.plot(history['val']['accuracy'])\n",
    "plt.title('model accuracy')\n",
    "plt.ylabel('accuracy')\n",
    "plt.xlabel('epoch')\n",
    "plt.xticks(np.arange(len(history['train']['accuracy'])), np.arange(1, len(history['train']['accuracy']) + 1))\n",
    "plt.legend(['train', 'val'], loc='lower right')\n",
    "\n",
    "plt.show()"
   ]
  },
  {
   "cell_type": "markdown",
   "metadata": {},
   "source": [
    "#### Save the model"
   ]
  },
  {
   "cell_type": "code",
   "execution_count": 29,
   "metadata": {},
   "outputs": [],
   "source": [
    "torch.save({'encoder': encoder.state_dict(),\n",
    "            'decoder': decoder.state_dict()}, MODEL_SAVE_PATH)"
   ]
  },
  {
   "cell_type": "code",
   "execution_count": 30,
   "metadata": {},
   "outputs": [
    {
     "data": {
      "text/plain": [
       "AttnDecoderRNN(\n",
       "  (embedding): Embedding(78, 1024)\n",
       "  (attn): Linear(in_features=2048, out_features=35, bias=True)\n",
       "  (attn_combine): Linear(in_features=2048, out_features=1024, bias=True)\n",
       "  (dropout): Dropout(p=0.1, inplace=False)\n",
       "  (gru): GRU(1024, 1024)\n",
       "  (out): Linear(in_features=1024, out_features=78, bias=True)\n",
       ")"
      ]
     },
     "execution_count": 30,
     "metadata": {},
     "output_type": "execute_result"
    }
   ],
   "source": [
    "checkpoint = torch.load(MODEL_SAVE_PATH)\n",
    "encoder.load_state_dict(checkpoint['encoder'])\n",
    "decoder.load_state_dict(checkpoint['decoder'])\n",
    "\n",
    "encoder.eval()\n",
    "decoder.eval()"
   ]
  },
  {
   "cell_type": "markdown",
   "metadata": {},
   "source": [
    "### Validate the results"
   ]
  },
  {
   "cell_type": "code",
   "execution_count": 31,
   "metadata": {},
   "outputs": [],
   "source": [
    "def evaluate(sentence):\n",
    "    input_tensor = tensor_from_sequence(input_tokenizer, sentence)\n",
    "\n",
    "    input_length = input_tensor.size(0)\n",
    "\n",
    "    #############################################################################\n",
    "    #############################################################################\n",
    "\n",
    "    encoder_hidden = encoder.init_hidden()\n",
    "    encoder_outputs = torch.zeros(max_seq_len, encoder.hidden_size, device=device)\n",
    "\n",
    "    for ei in range(input_length):\n",
    "        encoder_output, encoder_hidden = encoder(input_tensor[ei], encoder_hidden)\n",
    "        encoder_outputs[ei] = encoder_output[0, 0]\n",
    "\n",
    "    #############################################################################\n",
    "    #############################################################################\n",
    "\n",
    "    decoder_input = torch.tensor([[SOS_TOKEN_INDEX]], device=device)\n",
    "    decoder_hidden = encoder_hidden\n",
    "\n",
    "    decoded_word = []\n",
    "    decoder_attentions = torch.zeros(max_seq_len, max_seq_len)\n",
    "    for di in range(max_seq_len):\n",
    "        decoder_output, decoder_hidden, decoder_attention = decoder(\n",
    "            decoder_input, decoder_hidden, encoder_outputs)\n",
    "        decoder_attentions[di] = decoder_attention.data\n",
    "        topv, topi = decoder_output.topk(1)\n",
    "        decoder_input = topi.squeeze().detach()\n",
    "\n",
    "        decoded_word.append(topi.item())\n",
    "\n",
    "        if decoder_input.item() == EOS_TOKEN_INDEX:\n",
    "            break\n",
    "    decoded_word = [output_tokenizer.index2word[item] for item in decoded_word]\n",
    "    return decoded_word, decoder_attentions[:di + 1]"
   ]
  },
  {
   "cell_type": "code",
   "execution_count": 36,
   "metadata": {},
   "outputs": [],
   "source": [
    "# def evaluate(sentence, max_length=max_seq_len):\n",
    "#     with torch.no_grad():\n",
    "#         input_tensor = tensor_from_sequence(input_tokenizer, sentence)\n",
    "#         input_length = input_tensor.size()[0]\n",
    "#         encoder_hidden = encoder.init_hidden()\n",
    "\n",
    "#         encoder_outputs = torch.zeros(max_length, encoder.hidden_size, device=device)\n",
    "\n",
    "#         for ei in range(input_length):\n",
    "#             encoder_output, encoder_hidden = encoder(input_tensor[ei],\n",
    "#                                                      encoder_hidden)\n",
    "#             encoder_outputs[ei] += encoder_output[0, 0]\n",
    "\n",
    "#         decoder_input = torch.tensor([[SOS_TOKEN_INDEX]], device=device)  # SOS\n",
    "\n",
    "#         decoder_hidden = encoder_hidden\n",
    "\n",
    "#         decoded_words = []\n",
    "#         decoder_attentions = torch.zeros(max_length, max_length)\n",
    "\n",
    "#         for di in range(max_length):\n",
    "#             decoder_output, decoder_hidden, decoder_attention = decoder(\n",
    "#                 decoder_input, decoder_hidden, encoder_outputs)\n",
    "#             decoder_attentions[di] = decoder_attention.data\n",
    "#             topv, topi = decoder_output.data.topk(1)\n",
    "#             if topi.item() == EOS_TOKEN_INDEX:\n",
    "#                 decoded_words.append(EOS_TOKEN)\n",
    "#                 break\n",
    "#             else:\n",
    "#                 decoded_words.append(output_tokenizer.index2word[topi.item()])\n",
    "\n",
    "#             decoder_input = topi.squeeze().detach()\n",
    "\n",
    "#         return decoded_words, decoder_attentions[:di + 1]\n",
    "    \n",
    "def show_attention(input_sequence, output_sequence, attentions):\n",
    "    # Set up figure with colorbar\n",
    "    fig = plt.figure()\n",
    "    ax = fig.add_subplot(111)\n",
    "    cax = ax.matshow(attentions.numpy(), cmap='bone')\n",
    "    fig.colorbar(cax)\n",
    "\n",
    "    # Set up axes\n",
    "    ax.set_xticklabels([''] + input_sequence +\n",
    "                       ['<EOS>'], rotation=90)\n",
    "    ax.set_yticklabels([''] + output_sequence)\n",
    "\n",
    "    # Show label at every tick\n",
    "    ax.xaxis.set_major_locator(ticker.MultipleLocator(1))\n",
    "    ax.yaxis.set_major_locator(ticker.MultipleLocator(1))\n",
    "\n",
    "    plt.show()\n",
    "    \n",
    "\n",
    "def evaluate_and_show_attention(sequence):\n",
    "    output_sequence, attentions = evaluate(sequence)\n",
    "    print('input =', sequence)\n",
    "    print('output =', output_sequence[:-1])\n",
    "    show_attention(sequence, output_sequence, attentions)"
   ]
  },
  {
   "cell_type": "code",
   "execution_count": 37,
   "metadata": {},
   "outputs": [
    {
     "data": {
      "text/plain": [
       "['а', 'г', 'і', 'т', 'а', 'т', 'о', 'р', 'с', 'ь', 'к', 'и', 'й']"
      ]
     },
     "execution_count": 37,
     "metadata": {},
     "output_type": "execute_result"
    }
   ],
   "source": [
    "test_sample = ['а', 'г', 'і', 'т', 'а', 'т', 'о', 'р', 'с', 'ь', 'к', 'и', 'й']\n",
    "test_sample"
   ]
  },
  {
   "cell_type": "code",
   "execution_count": 38,
   "metadata": {},
   "outputs": [
    {
     "data": {
      "text/plain": [
       "['а', 'б', '{е^и}', 'р', 'а', '<EOS>']"
      ]
     },
     "execution_count": 38,
     "metadata": {},
     "output_type": "execute_result"
    }
   ],
   "source": [
    "evaluate(test_sample)[0]"
   ]
  },
  {
   "cell_type": "code",
   "execution_count": 39,
   "metadata": {},
   "outputs": [
    {
     "name": "stdout",
     "output_type": "stream",
     "text": [
      "input = ['а', 'г', 'і', 'т', 'а', 'т', 'о', 'р', 'с', 'ь', 'к', 'и', 'й']\n",
      "output = ['а', 'б', '{е^и}', 'р', 'а']\n"
     ]
    },
    {
     "data": {
      "image/png": "[encoded data removed]",
      "text/plain": [
       "<Figure size 432x288 with 2 Axes>"
      ]
     },
     "metadata": {
      "needs_background": "light"
     },
     "output_type": "display_data"
    }
   ],
   "source": [
    "evaluate_and_show_attention(test_sample)"
   ]
  },
  {
   "cell_type": "code",
   "execution_count": null,
   "metadata": {},
   "outputs": [],
   "source": []
  },
  {
   "cell_type": "code",
   "execution_count": null,
   "metadata": {},
   "outputs": [],
   "source": []
  },
  {
   "cell_type": "code",
   "execution_count": null,
   "metadata": {},
   "outputs": [],
   "source": []
  }
 ],
 "metadata": {
  "kernelspec": {
   "display_name": "Environment (conda_pytorch_latest_p37)",
   "language": "python",
   "name": "conda_pytorch_latest_p37"
  },
  "language_info": {
   "codemirror_mode": {
    "name": "ipython",
    "version": 3
   },
   "file_extension": ".py",
   "mimetype": "text/x-python",
   "name": "python",
   "nbconvert_exporter": "python",
   "pygments_lexer": "ipython3",
   "version": "3.7.6"
  }
 },
 "nbformat": 4,
 "nbformat_minor": 4
}
